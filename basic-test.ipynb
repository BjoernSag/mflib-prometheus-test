{
 "cells": [
  {
   "cell_type": "code",
   "execution_count": null,
   "id": "1821d7b2-cc51-4776-91f2-bd81aa001a57",
   "metadata": {},
   "outputs": [],
   "source": [
    "# Common imports\n",
    "\n",
    "import os\n",
    "import json\n",
    "import traceback\n",
    "# import copier as COPY"
   ]
  },
  {
   "cell_type": "code",
   "execution_count": null,
   "id": "b9cd0851-5bbf-4ff4-b3cd-ff3ea17774a5",
   "metadata": {},
   "outputs": [],
   "source": []
  },
  {
   "cell_type": "code",
   "execution_count": null,
   "id": "f4f11301-948d-4cd9-bd05-8513234ca796",
   "metadata": {},
   "outputs": [],
   "source": [
    "from fabrictestbed_extensions.fablib.fablib import FablibManager as fablib_manager\n",
    "\n",
    "try:\n",
    "    fablib = fablib_manager() \n",
    "    #fablib.show_config()\n",
    "except Exception as e:\n",
    "    print(f\"Exception: {e}\")\n"
   ]
  },
  {
   "cell_type": "code",
   "execution_count": null,
   "id": "c1050185-f654-4252-9326-8eed8e6d9c94",
   "metadata": {},
   "outputs": [],
   "source": [
    "#import mflib\n",
    "\n",
    "\n",
    "from mflib.mflib import MFLib\n",
    "\n",
    "print(f\"MFLib version  {MFLib.__version__} \" )\n",
    "\n",
    "slice_name = \"MyMonitoredSliceTwo\"\n",
    "print(f\"Using slice_name **** {slice_name} ****\")\n"
   ]
  },
  {
   "cell_type": "code",
   "execution_count": null,
   "id": "f2279422-6725-49c9-b4b9-07ea934af50e",
   "metadata": {},
   "outputs": [],
   "source": [
    "# SET SLICE INFO\n",
    "\n",
    "# Sites without PTP + NCSA where meas node is located\n",
    "#[site1,site2,site3] = fablib.get_random_sites(count=3, avoid=[\"DALL\",\"GPN\",\"LBNL\",\"RENC\",\"SALT\",\"TACC\",\"UKY\",\"WASH\",\"NCSA\",\"LOSA\",\"GATECH\",\"INDI\",\"NEWY\",\"SRI\"])\n",
    "\n",
    "# Sites without PTP + NCSA where meas node is located + Problem sites\n",
    "[site1,site2,site3] = fablib.get_random_sites(count=3, avoid=[\"DALL\",\"GPN\",\"LBNL\",\"RENC\",\"SALT\",\"TACC\",\"UKY\",\"WASH\",\"NCSA\",\"LOSA\",\"GATECH\",\"INDI\",\"MAX\", \"MASS\",\"NEWY\",\"SRI\",\"UCSD\"])\n",
    "\n",
    "\n",
    "node1_name = 'Node1'\n",
    "node2_name = 'Node2'\n",
    "node3_name = 'Node3'\n",
    "\n",
    "network1_name='net1'\n",
    "network2_name='net2'\n",
    "network3_name='net3'\n",
    "\n",
    "node1_nic_name = 'nic1'\n",
    "node2_nic_name = 'nic2'\n",
    "node3_nic_name = 'nic3'\n",
    "\n",
    "print(f\"Setting up slice {slice_name}\")\n",
    "print(f\"Using sites {site1}, {site2}, {site3}\")\n"
   ]
  },
  {
   "cell_type": "code",
   "execution_count": null,
   "id": "d35ae4c9-b17c-43bd-929f-246abcb5f72b",
   "metadata": {},
   "outputs": [],
   "source": [
    "# Create topology\n",
    "\n",
    "try:\n",
    "    #Create Slice\n",
    "    slice = fablib.new_slice(name=slice_name)\n",
    "    \n",
    "    # Node1\n",
    "    node1 = slice.add_node(name=node1_name, site=site1, image='docker_rocky_8')\n",
    "    iface1 = node1.add_component(model='NIC_Basic', name=node1_nic_name).get_interfaces()[0]\n",
    "    \n",
    "    # Node2\n",
    "    node2 = slice.add_node(name=node2_name, site=site2, image='docker_rocky_8')\n",
    "    iface2  = node2.add_component(model='NIC_Basic', name=node2_nic_name).get_interfaces()[0]\n",
    "\n",
    "    # Node3\n",
    "    node3 = slice.add_node(name=node3_name, site=site3, image='docker_rocky_8')\n",
    "    iface3  = node3.add_component(model='NIC_Basic', name=node3_nic_name).get_interfaces()[0]\n",
    "\n",
    "    # Networks\n",
    "    net1 = slice.add_l3network(name=network1_name, interfaces=[iface1], type='IPv4')\n",
    "    net2 = slice.add_l3network(name=network2_name, interfaces=[iface2], type='IPv4')\n",
    "    net3 = slice.add_l3network(name=network3_name, interfaces=[iface3], type='IPv4')\n",
    "\n",
    "    print(f\"Slice Topology Done.\")\n",
    "\n",
    "    # Add measurement node to topology using static method.\n",
    "    MFLib.addMeasNode(slice, disk=100, image='docker_ubuntu_20')\n",
    "    print(\"Done\")\n",
    "\n",
    "    slice.submit()\n",
    "\n",
    "    print(\"✅ DONE! Topology created successfully\")\n",
    "except Exception as e:\n",
    "    print(f\"Exception: {e}\")\n",
    "\n"
   ]
  },
  {
   "cell_type": "code",
   "execution_count": null,
   "id": "a5427208-b330-42c2-a463-8cd872fa76e7",
   "metadata": {},
   "outputs": [],
   "source": []
  },
  {
   "cell_type": "code",
   "execution_count": null,
   "id": "010e97e1-347f-4ddc-879c-3c315e8185f9",
   "metadata": {},
   "outputs": [],
   "source": [
    "# IF need to restart notebook:\n",
    "\n",
    "#slice = fablib.get_slice(slice_name)\n",
    "#slice.wait_jupyter(interval=60)"
   ]
  },
  {
   "cell_type": "code",
   "execution_count": null,
   "id": "f0c38287-c65d-4863-af51-a2d8aee3f824",
   "metadata": {},
   "outputs": [],
   "source": [
    "# Get the assigned subnet:\n",
    "\n",
    "try:\n",
    "    network1 = slice.get_network(name=network1_name)\n",
    "    network1_available_ips = network1.get_available_ips()\n",
    "    network1.show()\n",
    "    \n",
    "    network2 = slice.get_network(name=network2_name)\n",
    "    network2_available_ips =  network2.get_available_ips()\n",
    "    network2.show()\n",
    "    \n",
    "    network3 = slice.get_network(name=network3_name)\n",
    "    network3_available_ips =  network3.get_available_ips()\n",
    "    network3.show()\n",
    "    \n",
    "    \n",
    "except Exception as e:\n",
    "    print(f\"Exception: {e}\")"
   ]
  },
  {
   "cell_type": "code",
   "execution_count": null,
   "id": "851a958d-5e74-42c9-9667-695a09a4e3f6",
   "metadata": {},
   "outputs": [],
   "source": [
    "# Configure nodes:\n",
    "\n",
    "#NODE 1\n",
    "\n",
    "try:\n",
    "    node1 = slice.get_node(name=node1_name)        \n",
    "    node1_iface = node1.get_interface(network_name=network1_name)  \n",
    "    node1_addr = network1_available_ips.pop(0)\n",
    "    node1_iface.ip_addr_add(addr=node1_addr, subnet=network1.get_subnet())\n",
    "    \n",
    "    node1.ip_route_add(subnet=network2.get_subnet(), gateway=network1.get_gateway())\n",
    "    node1.ip_route_add(subnet=network3.get_subnet(), gateway=network1.get_gateway())\n",
    "    \n",
    "    stdout, stderr = node1.execute(f'ip addr show {node1_iface.get_os_interface()}')\n",
    "    stdout, stderr = node1.execute(f'ip route list')\n",
    "\n",
    "except Exception as e:\n",
    "    print(f\"Exception: {e}\")\n",
    "\n",
    "#Node 2:\n",
    "\n",
    "try:\n",
    "    node2 = slice.get_node(name=node2_name)        \n",
    "    node2_iface = node2.get_interface(network_name=network2_name) \n",
    "    node2_addr = network2_available_ips.pop(0)\n",
    "    node2_iface.ip_addr_add(addr=node2_addr, subnet=network2.get_subnet())\n",
    "    \n",
    "    node2.ip_route_add(subnet=network1.get_subnet(), gateway=network2.get_gateway())\n",
    "    node2.ip_route_add(subnet=network3.get_subnet(), gateway=network2.get_gateway())\n",
    "    \n",
    "    stdout, stderr = node2.execute(f'ip addr show {node2_iface.get_os_interface()}')    \n",
    "    stdout, stderr = node2.execute(f'ip route list')\n",
    "\n",
    "except Exception as e:\n",
    "    print(f\"Exception: {e}\")\n",
    "\n",
    "#Node 3:\n",
    "\n",
    "try:\n",
    "    node3 = slice.get_node(name=node3_name)        \n",
    "    node3_iface = node3.get_interface(network_name=network3_name) \n",
    "    node3_addr = network3_available_ips.pop(0)\n",
    "    node3_iface.ip_addr_add(addr=node3_addr, subnet=network3.get_subnet())\n",
    "    \n",
    "    node3.ip_route_add(subnet=network1.get_subnet(), gateway=network3.get_gateway())\n",
    "    node3.ip_route_add(subnet=network2.get_subnet(), gateway=network3.get_gateway())\n",
    "    \n",
    "    stdout, stderr = node3.execute(f'ip addr show {node3_iface.get_os_interface()}')    \n",
    "    stdout, stderr = node3.execute(f'ip route list')\n",
    "\n",
    "except Exception as e:\n",
    "    print(f\"Exception: {e}\")"
   ]
  },
  {
   "cell_type": "code",
   "execution_count": null,
   "id": "88a77d6f-1916-4676-91e7-40b11de4f1a4",
   "metadata": {},
   "outputs": [],
   "source": [
    "# Instrumentize a slice:\n",
    "\n",
    "mf = MFLib(slice_name)"
   ]
  },
  {
   "cell_type": "code",
   "execution_count": null,
   "id": "9fb5dbc6-839b-4249-a1dd-2844a57fa93f",
   "metadata": {},
   "outputs": [],
   "source": [
    "# Install prometheus:\n",
    "instrumetize_results = mf.instrumentize()"
   ]
  },
  {
   "cell_type": "code",
   "execution_count": null,
   "id": "4d6e30d6-14f7-467f-9133-3f8a3965df68",
   "metadata": {},
   "outputs": [],
   "source": []
  },
  {
   "cell_type": "code",
   "execution_count": null,
   "id": "82af31ae-a6e9-474b-9c8d-97d47a84f08f",
   "metadata": {},
   "outputs": [],
   "source": [
    "# Grafana SSH Tunnel Command\n",
    "# mf.grafana_tunnel_local_port = 10010 # optionally change the port\n",
    "print(mf.grafana_tunnel)\n",
    "\n",
    "print(f\"Browse to https://localhost:{mf.grafana_tunnel_local_port}/grafana/dashboards?query=%2A\")"
   ]
  },
  {
   "cell_type": "code",
   "execution_count": null,
   "id": "9ec6fb19-26c1-4654-93fb-5eb2d504f51f",
   "metadata": {},
   "outputs": [],
   "source": [
    "\n",
    "\n",
    "# The grafana_manager service was created by the mf.instrumentize call.\n",
    "# Get access info for Grafana by using the mflib.info call to the grafana_manager.\n",
    "# Create a dictionary to pass to the service.\n",
    "data = {}\n",
    "# Set the info you want to get.\n",
    "data[\"get\"] = [\"admin_password\"]\n",
    "# Call info using service name and data dictionary.\n",
    "info_results = mf.info(\"grafana_manager\", data)\n",
    "print(info_results)\n",
    "\n"
   ]
  },
  {
   "cell_type": "code",
   "execution_count": null,
   "id": "cdcb079e-3953-4c21-af17-96d4b90c5954",
   "metadata": {},
   "outputs": [],
   "source": [
    "# UNCOMMENT the line below and execute this cell, then try again. \n",
    "#slice.delete()"
   ]
  },
  {
   "cell_type": "code",
   "execution_count": null,
   "id": "51e415c4-fd5f-4817-81ef-310b1f47e85d",
   "metadata": {},
   "outputs": [],
   "source": []
  }
 ],
 "metadata": {
  "kernelspec": {
   "display_name": "Python 3 (ipykernel)",
   "language": "python",
   "name": "python3"
  },
  "language_info": {
   "codemirror_mode": {
    "name": "ipython",
    "version": 3
   },
   "file_extension": ".py",
   "mimetype": "text/x-python",
   "name": "python",
   "nbconvert_exporter": "python",
   "pygments_lexer": "ipython3",
   "version": "3.11.8"
  }
 },
 "nbformat": 4,
 "nbformat_minor": 5
}
